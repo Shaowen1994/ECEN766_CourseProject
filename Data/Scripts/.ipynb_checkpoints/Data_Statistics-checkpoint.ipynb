{
 "cells": [
  {
   "cell_type": "code",
   "execution_count": 2,
   "metadata": {},
   "outputs": [],
   "source": [
    "import matplotlib.pyplot as plt\n",
    "import numpy as np"
   ]
  },
  {
   "cell_type": "code",
   "execution_count": 3,
   "metadata": {},
   "outputs": [],
   "source": [
    "with open('../Datasets/astral-scopedom-seqres-gd-sel-gs-bib-40-2.07.fa','r') as f:\n",
    "    lines = f.readlines()\n",
    "    len_lines = len(lines)"
   ]
  },
  {
   "cell_type": "code",
   "execution_count": 5,
   "metadata": {},
   "outputs": [
    {
     "ename": "NameError",
     "evalue": "name 'len_lines' is not defined",
     "output_type": "error",
     "traceback": [
      "\u001b[0;31m---------------------------------------------------------------------------\u001b[0m",
      "\u001b[0;31mNameError\u001b[0m                                 Traceback (most recent call last)",
      "\u001b[0;32m<ipython-input-5-1eb9c6498509>\u001b[0m in \u001b[0;36m<module>\u001b[0;34m\u001b[0m\n\u001b[1;32m      4\u001b[0m \u001b[0mclass_dict\u001b[0m \u001b[0;34m=\u001b[0m \u001b[0;34m{\u001b[0m\u001b[0;34m}\u001b[0m\u001b[0;34m\u001b[0m\u001b[0;34m\u001b[0m\u001b[0m\n\u001b[1;32m      5\u001b[0m \u001b[0;34m\u001b[0m\u001b[0m\n\u001b[0;32m----> 6\u001b[0;31m \u001b[0;32mfor\u001b[0m \u001b[0mi\u001b[0m \u001b[0;32min\u001b[0m \u001b[0mrange\u001b[0m\u001b[0;34m(\u001b[0m\u001b[0mlen_lines\u001b[0m\u001b[0;34m)\u001b[0m\u001b[0;34m:\u001b[0m\u001b[0;34m\u001b[0m\u001b[0;34m\u001b[0m\u001b[0m\n\u001b[0m\u001b[1;32m      7\u001b[0m     \u001b[0mline\u001b[0m \u001b[0;34m=\u001b[0m \u001b[0mlines\u001b[0m\u001b[0;34m[\u001b[0m\u001b[0mi\u001b[0m\u001b[0;34m]\u001b[0m\u001b[0;34m\u001b[0m\u001b[0;34m\u001b[0m\u001b[0m\n\u001b[1;32m      8\u001b[0m     \u001b[0;32mif\u001b[0m \u001b[0mline\u001b[0m\u001b[0;34m[\u001b[0m\u001b[0;36m0\u001b[0m\u001b[0;34m]\u001b[0m \u001b[0;34m==\u001b[0m \u001b[0;34m'>'\u001b[0m\u001b[0;34m:\u001b[0m\u001b[0;34m\u001b[0m\u001b[0;34m\u001b[0m\u001b[0m\n",
      "\u001b[0;31mNameError\u001b[0m: name 'len_lines' is not defined"
     ]
    }
   ],
   "source": [
    "num = 0\n",
    "length_dict = {}\n",
    "fold_dict = {}\n",
    "class_dict = {}\n",
    "\n",
    "for i in range(len_lines):\n",
    "    line = lines[i]\n",
    "    if line[0] == '>':\n",
    "        num += 1\n",
    "        if i != 0:\n",
    "            if not clas in class_dict.keys():\n",
    "                class_dict[clas] = 1\n",
    "            else:\n",
    "                class_dict[clas] += 1\n",
    "                \n",
    "            if not fold in fold_dict.keys():\n",
    "                fold_dict[fold] = 1\n",
    "            else:\n",
    "                fold_dict[fold] += 1\n",
    "                \n",
    "            length = len(seq)\n",
    "            \n",
    "            if not length in length_dict.keys():\n",
    "                length_dict[length] = 1\n",
    "            else:\n",
    "                length_dict[length] += 1\n",
    "                \n",
    "        fold = line.split(' ')[1]\n",
    "        fold = '.'.join(fold.split('.')[0:2])\n",
    "        clas = fold[0]\n",
    "        seq = ''\n",
    "    else:\n",
    "        seq += line.strip('\\n')\n",
    "\n",
    "if not clas in class_dict.keys():\n",
    "    class_dict[clas] = 1\n",
    "else:\n",
    "    class_dict[clas] += 1        \n",
    "        \n",
    "if not fold in fold_dict.keys():\n",
    "    fold_dict[fold] = 1\n",
    "else:\n",
    "    fold_dict[fold] += 1\n",
    "    \n",
    "length = len(seq)\n",
    "\n",
    "if not length in length_dict.keys():\n",
    "    length_dict[length] = 1\n",
    "else:\n",
    "    length_dict[length] += 1"
   ]
  },
  {
   "cell_type": "code",
   "execution_count": 30,
   "metadata": {},
   "outputs": [
    {
     "name": "stdout",
     "output_type": "stream",
     "text": [
      "14323\n",
      "14323\n",
      "14323\n"
     ]
    }
   ],
   "source": [
    "print(sum(class_dict.values()))\n",
    "print(sum(fold_dict.values()))\n",
    "print(sum(length_dict.values()))"
   ]
  },
  {
   "cell_type": "code",
   "execution_count": 31,
   "metadata": {},
   "outputs": [
    {
     "data": {
      "text/plain": [
       "{'a': 2540, 'b': 2895, 'c': 4160, 'd': 3462, 'e': 279, 'f': 272, 'g': 715}"
      ]
     },
     "execution_count": 31,
     "metadata": {},
     "output_type": "execute_result"
    }
   ],
   "source": [
    "class_dict"
   ]
  },
  {
   "cell_type": "code",
   "execution_count": 56,
   "metadata": {},
   "outputs": [
    {
     "data": {
      "image/png": "[encoded data removed]",
      "text/plain": [
       "<Figure size 432x288 with 1 Axes>"
      ]
     },
     "metadata": {
      "needs_background": "light"
     },
     "output_type": "display_data"
    }
   ],
   "source": [
    "plt.figure()\n",
    "plt.ylim([0,4500])\n",
    "plt.tick_params(labelsize=12)\n",
    "plt.bar(range(7),class_dict.values(),color='blue',tick_label=list(class_dict.keys()))\n",
    "for a,b in zip(range(7),class_dict.values()):\n",
    "    plt.text(a,b+5,'%d'%b,ha='center',va='bottom',fontsize=12)\n",
    "plt.show()"
   ]
  },
  {
   "cell_type": "code",
   "execution_count": 44,
   "metadata": {},
   "outputs": [
    {
     "data": {
      "text/plain": [
       "619"
      ]
     },
     "execution_count": 44,
     "metadata": {},
     "output_type": "execute_result"
    }
   ],
   "source": [
    "len(length_dict.keys())"
   ]
  },
  {
   "cell_type": "code",
   "execution_count": 58,
   "metadata": {},
   "outputs": [
    {
     "name": "stdout",
     "output_type": "stream",
     "text": [
      "14323\n"
     ]
    },
    {
     "data": {
      "image/png": "[encoded data removed]",
      "text/plain": [
       "<Figure size 432x288 with 1 Axes>"
      ]
     },
     "metadata": {
      "needs_background": "light"
     },
     "output_type": "display_data"
    }
   ],
   "source": [
    "length_list = []\n",
    "for l in length_dict.keys():\n",
    "    for n in range(length_dict[l]):\n",
    "        length_list.append(l)\n",
    "        \n",
    "print(len(length_list))\n",
    "\n",
    "plt.figure()\n",
    "plt.hist(length_list,bins=100,color='blue')\n",
    "plt.xlabel('Sequence Length',fontsize=12)\n",
    "plt.show()"
   ]
  },
  {
   "cell_type": "code",
   "execution_count": 59,
   "metadata": {},
   "outputs": [
    {
     "data": {
      "image/png": "[encoded data removed]",
      "text/plain": [
       "<Figure size 432x288 with 1 Axes>"
      ]
     },
     "metadata": {
      "needs_background": "light"
     },
     "output_type": "display_data"
    }
   ],
   "source": [
    "plt.figure()\n",
    "#plt.ylim([0,4500])\n",
    "plt.bar(length_dict.keys(),length_dict.values(),color='blue',width=1)\n",
    "plt.xlabel('Sequence Length',fontsize=12)\n",
    "plt.ylabel('Sequence Amount',fontsize=12)\n",
    "plt.show()"
   ]
  },
  {
   "cell_type": "code",
   "execution_count": null,
   "metadata": {},
   "outputs": [],
   "source": []
  }
 ],
 "metadata": {
  "kernelspec": {
   "display_name": "Python 3",
   "language": "python",
   "name": "python3"
  },
  "language_info": {
   "codemirror_mode": {
    "name": "ipython",
    "version": 3
   },
   "file_extension": ".py",
   "mimetype": "text/x-python",
   "name": "python",
   "nbconvert_exporter": "python",
   "pygments_lexer": "ipython3",
   "version": "3.7.4"
  }
 },
 "nbformat": 4,
 "nbformat_minor": 2
}
