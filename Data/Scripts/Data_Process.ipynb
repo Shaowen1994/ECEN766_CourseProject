{
 "cells": [
  {
   "cell_type": "code",
   "execution_count": 1,
   "metadata": {},
   "outputs": [],
   "source": [
    "import pickle"
   ]
  },
  {
   "cell_type": "code",
   "execution_count": 2,
   "metadata": {},
   "outputs": [],
   "source": [
    "with open('../Datasets/astral-scopedom-seqres-gd-sel-gs-bib-40-2.07.fa','r') as f:\n",
    "    lines = f.readlines()\n",
    "    len_lines = len(lines)"
   ]
  },
  {
   "cell_type": "code",
   "execution_count": null,
   "metadata": {},
   "outputs": [],
   "source": [
    "fold_protein_dict = {}\n",
    "protein_dict = {} \n",
    "\n",
    "for i in range(len_lines):\n",
    "    line = lines[i]\n",
    "    if line[0] == '>':\n",
    "        num += 1\n",
    "        if i != 0:\n",
    "                \n",
    "            if not fold in fold_dict.keys():\n",
    "                fold_dict[fold] = 1\n",
    "            else:\n",
    "                fold_dict[fold] += 1\n",
    "                \n",
    "            length = len(seq)\n",
    "            \n",
    "            if not length in length_dict.keys():\n",
    "                length_dict[length] = 1\n",
    "            else:\n",
    "                length_dict[length] += 1\n",
    "                \n",
    "        fold = line.split(' ')[1]\n",
    "        fold = '.'.join(fold.split('.')[0:2])\n",
    "        clas = fold[0]\n",
    "        seq = ''\n",
    "    else:\n",
    "        seq += line.strip('\\n')\n",
    "\n",
    "if not clas in class_dict.keys():\n",
    "    class_dict[clas] = 1\n",
    "else:\n",
    "    class_dict[clas] += 1        \n",
    "        \n",
    "if not fold in fold_dict.keys():\n",
    "    fold_dict[fold] = 1\n",
    "else:\n",
    "    fold_dict[fold] += 1"
   ]
  },
  {
   "cell_type": "markdown",
   "metadata": {},
   "source": [
    "### Datasets for Seq-SS models: ###"
   ]
  },
  {
   "cell_type": "code",
   "execution_count": null,
   "metadata": {},
   "outputs": [],
   "source": []
  },
  {
   "cell_type": "markdown",
   "metadata": {},
   "source": [
    "### Datasets for Seq-Fold models: ###"
   ]
  },
  {
   "cell_type": "code",
   "execution_count": null,
   "metadata": {},
   "outputs": [],
   "source": [
    "with open('../Datasets/simple_fold_num_dict', 'rb') as handle:\n",
    "    fold_dict_simple = pickle.load(handle)"
   ]
  }
 ],
 "metadata": {
  "kernelspec": {
   "display_name": "Python 3",
   "language": "python",
   "name": "python3"
  },
  "language_info": {
   "codemirror_mode": {
    "name": "ipython",
    "version": 3
   },
   "file_extension": ".py",
   "mimetype": "text/x-python",
   "name": "python",
   "nbconvert_exporter": "python",
   "pygments_lexer": "ipython3",
   "version": "3.7.4"
  }
 },
 "nbformat": 4,
 "nbformat_minor": 2
}
