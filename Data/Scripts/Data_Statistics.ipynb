{
 "cells": [
  {
   "cell_type": "code",
   "execution_count": 97,
   "metadata": {},
   "outputs": [],
   "source": [
    "import matplotlib.pyplot as plt\n",
    "import numpy as np"
   ]
  },
  {
   "cell_type": "code",
   "execution_count": 98,
   "metadata": {},
   "outputs": [],
   "source": [
    "Data_Path = '../Datasets/'\n",
    "\n",
    "with open(Data_Path  + 'astral-scopedom-seqres-gd-sel-gs-bib-40-2.07.fa','r') as f:\n",
    "    lines = f.readlines()\n",
    "    len_lines = len(lines)"
   ]
  },
  {
   "cell_type": "markdown",
   "metadata": {},
   "source": [
    "### Statistics of all the proteins: ###"
   ]
  },
  {
   "cell_type": "code",
   "execution_count": 99,
   "metadata": {},
   "outputs": [],
   "source": [
    "pro_num = 0\n",
    "sequence_num = 0\n",
    "length_dict = {}\n",
    "fold_dict = {}\n",
    "class_dict = {}\n",
    "\n",
    "multi_chain_num = 0\n",
    "\n",
    "for i in range(len_lines):\n",
    "    line = lines[i]\n",
    "    if line[0] == '>':\n",
    "        pro_num += 1\n",
    "        if i != 0:\n",
    "            \n",
    "            seq_list = seq.split('X')\n",
    "            seq_num = len(seq_list)\n",
    "            \n",
    "            sequence_num += seq_num\n",
    "            \n",
    "            if seq_num >= 2:\n",
    "                multi_chain_num += 1\n",
    "                \n",
    "            if not clas in class_dict.keys():\n",
    "                class_dict[clas] = [1,seq_num]\n",
    "            else:\n",
    "                class_dict[clas][0] += 1\n",
    "                class_dict[clas][1] += seq_num\n",
    "                \n",
    "            if not fold in fold_dict.keys():\n",
    "                fold_dict[fold] = [1,seq_num]\n",
    "            else:\n",
    "                fold_dict[fold][0] += 1\n",
    "                fold_dict[fold][1] += seq_num\n",
    "            \n",
    "            for se in seq_list:\n",
    "                length = len(se)\n",
    "            \n",
    "                if not length in length_dict.keys():\n",
    "                    length_dict[length] = 1\n",
    "                else:\n",
    "                    length_dict[length] += 1\n",
    "                \n",
    "        fold = line.split(' ')[1]\n",
    "        fold = '.'.join(fold.split('.')[0:2])\n",
    "        clas = fold[0]\n",
    "        seq = ''\n",
    "    else:\n",
    "        seq += line.strip('\\n')\n",
    "\n",
    "seq_list = seq.split('X')\n",
    "seq_num = len(seq_list)\n",
    "if seq_num >= 2:\n",
    "    multi_chain_num += 1\n",
    "    \n",
    "if not clas in class_dict.keys():\n",
    "    class_dict[clas] = [1,seq_num]\n",
    "else:\n",
    "    class_dict[clas][0] += 1\n",
    "    class_dict[clas][1] += seq_num   \n",
    "        \n",
    "if not fold in fold_dict.keys():\n",
    "    fold_dict[fold] = [1,seq_num]\n",
    "else:\n",
    "    fold_dict[fold][0] += 1\n",
    "    fold_dict[fold][1] += seq_num\n",
    "\n",
    "for se in seq_list:    \n",
    "    length = len(se)\n",
    "\n",
    "    if not length in length_dict.keys():\n",
    "        length_dict[length] = 1\n",
    "    else:\n",
    "        length_dict[length] += 1"
   ]
  },
  {
   "cell_type": "code",
   "execution_count": 100,
   "metadata": {},
   "outputs": [
    {
     "name": "stdout",
     "output_type": "stream",
     "text": [
      "Protein Amount: 14323\n",
      "Sequence Amount: 14665\n",
      "Fold Amount: 1232\n",
      "Class Amount: 7\n",
      "Amount of proteins with multi-chains: 331\n",
      "\n",
      "Minimum Sequence Length: 6\n",
      "Maximum Sequence Length: 1664\n"
     ]
    }
   ],
   "source": [
    "print('Protein Amount: %d'%pro_num)\n",
    "print('Sequence Amount: %d'%sequence_num)\n",
    "print('Fold Amount: %d'%len(fold_dict.keys()))\n",
    "print('Class Amount: %d'%len(class_dict.keys()))\n",
    "print('Amount of proteins with multi-chains: %d'%multi_chain_num)\n",
    "print()\n",
    "print('Minimum Sequence Length: %d'%min(length_dict.keys()))\n",
    "print('Maximum Sequence Length: %d'%max(length_dict.keys()))"
   ]
  },
  {
   "cell_type": "code",
   "execution_count": 101,
   "metadata": {},
   "outputs": [
    {
     "name": "stdout",
     "output_type": "stream",
     "text": [
      "Protein amount of different classes:\n"
     ]
    },
    {
     "data": {
      "image/png": "[encoded data removed]",
      "text/plain": [
       "<Figure size 432x288 with 1 Axes>"
      ]
     },
     "metadata": {
      "needs_background": "light"
     },
     "output_type": "display_data"
    },
    {
     "name": "stdout",
     "output_type": "stream",
     "text": [
      "Sequence amount of different classes:\n"
     ]
    },
    {
     "data": {
      "image/png": "[encoded data removed]",
      "text/plain": [
       "<Figure size 432x288 with 1 Axes>"
      ]
     },
     "metadata": {
      "needs_background": "light"
     },
     "output_type": "display_data"
    }
   ],
   "source": [
    "print ('Protein amount of different classes:')\n",
    "\n",
    "cla_pro_num_list = [i[0] for i in class_dict.values()]\n",
    "plt.figure(1)\n",
    "plt.ylim([0,5000])\n",
    "plt.tick_params(labelsize=12)\n",
    "plt.bar(range(7),cla_pro_num_list,color='blue',tick_label=list(class_dict.keys()))\n",
    "for a,b in zip(range(7),cla_pro_num_list):\n",
    "    plt.text(a,b+5,'%d'%b,ha='center',va='bottom',fontsize=12)\n",
    "plt.show()\n",
    "\n",
    "print ('Sequence amount of different classes:')\n",
    "\n",
    "cla_seq_num_list = [i[1] for i in class_dict.values()]\n",
    "plt.figure(2)\n",
    "plt.ylim([0,5000])\n",
    "plt.tick_params(labelsize=12)\n",
    "plt.bar(range(7),cla_seq_num_list,color='blue',tick_label=list(class_dict.keys()))\n",
    "for a,b in zip(range(7),cla_seq_num_list):\n",
    "    plt.text(a,b+5,'%d'%b,ha='center',va='bottom',fontsize=12)\n",
    "plt.show()"
   ]
  },
  {
   "cell_type": "code",
   "execution_count": 102,
   "metadata": {},
   "outputs": [
    {
     "name": "stdout",
     "output_type": "stream",
     "text": [
      "Protein amount of different folds:\n"
     ]
    },
    {
     "data": {
      "image/png": "[encoded data removed]",
      "text/plain": [
       "<Figure size 432x288 with 1 Axes>"
      ]
     },
     "metadata": {
      "needs_background": "light"
     },
     "output_type": "display_data"
    },
    {
     "name": "stdout",
     "output_type": "stream",
     "text": [
      "Sequence amount of different folds:\n"
     ]
    },
    {
     "data": {
      "image/png": "[encoded data removed]",
      "text/plain": [
       "<Figure size 432x288 with 1 Axes>"
      ]
     },
     "metadata": {
      "needs_background": "light"
     },
     "output_type": "display_data"
    }
   ],
   "source": [
    "print ('Protein amount of different folds:')\n",
    "\n",
    "fold_pro_num_list = [i[0] for i in fold_dict.values()]\n",
    "plt.figure(1)\n",
    "plt.bar(range(len(fold_dict.keys())),sorted(fold_pro_num_list),color='blue',width=1)\n",
    "plt.xlabel('Sorted Fold Index',fontsize=12)\n",
    "plt.ylabel('Protein Amount',fontsize=12)\n",
    "plt.show()\n",
    "\n",
    "print ('Sequence amount of different folds:')\n",
    "\n",
    "fold_seq_num_list = [i[1] for i in fold_dict.values()]\n",
    "plt.figure(2)\n",
    "plt.bar(range(len(fold_dict.keys())),sorted(fold_seq_num_list),color='blue',width=1)\n",
    "plt.xlabel('Sorted Fold Index',fontsize=12)\n",
    "plt.ylabel('Sequence Amount',fontsize=12)\n",
    "plt.show()"
   ]
  },
  {
   "cell_type": "code",
   "execution_count": 103,
   "metadata": {},
   "outputs": [
    {
     "name": "stdout",
     "output_type": "stream",
     "text": [
      "Sequence amount of different lengths:\n"
     ]
    },
    {
     "data": {
      "image/png": "[encoded data removed]",
      "text/plain": [
       "<Figure size 432x288 with 1 Axes>"
      ]
     },
     "metadata": {
      "needs_background": "light"
     },
     "output_type": "display_data"
    }
   ],
   "source": [
    "print ('Sequence amount of different lengths:')\n",
    "\n",
    "plt.figure()\n",
    "#plt.ylim([0,4500])\n",
    "plt.bar(length_dict.keys(),length_dict.values(),color='blue',width=1)\n",
    "plt.xlabel('Sequence Length',fontsize=12)\n",
    "plt.ylabel('Sequence Amount',fontsize=12)\n",
    "plt.show()"
   ]
  },
  {
   "cell_type": "code",
   "execution_count": 104,
   "metadata": {},
   "outputs": [
    {
     "name": "stdout",
     "output_type": "stream",
     "text": [
      "Sequence Length Distribution:\n"
     ]
    },
    {
     "data": {
      "image/png": "[encoded data removed]",
      "text/plain": [
       "<Figure size 432x288 with 1 Axes>"
      ]
     },
     "metadata": {
      "needs_background": "light"
     },
     "output_type": "display_data"
    }
   ],
   "source": [
    "length_list = []\n",
    "for l in length_dict.keys():\n",
    "    for n in range(length_dict[l]):\n",
    "        length_list.append(l)\n",
    "        \n",
    "print('Sequence Length Distribution:')\n",
    "\n",
    "plt.figure()\n",
    "plt.hist(length_list,bins=100,color='blue',density=True)\n",
    "plt.xlabel('Sequence Length',fontsize=12)\n",
    "plt.show()"
   ]
  },
  {
   "cell_type": "markdown",
   "metadata": {},
   "source": [
    "### Statistics of proteins with single chain: ###"
   ]
  },
  {
   "cell_type": "code",
   "execution_count": 105,
   "metadata": {},
   "outputs": [],
   "source": [
    "sequence_single_num = 0\n",
    "length_single_dict = {}\n",
    "fold_single_dict = {}\n",
    "class_single_dict = {}\n",
    "\n",
    "for i in range(len_lines):\n",
    "    line = lines[i]\n",
    "    if line[0] == '>':\n",
    "        if i != 0:           \n",
    "            if not 'X' in seq:\n",
    "                \n",
    "                sequence_single_num += 1\n",
    "                \n",
    "                if not clas in class_single_dict.keys():\n",
    "                    class_single_dict[clas] = 1\n",
    "                else:\n",
    "                    class_single_dict[clas] += 1\n",
    "                \n",
    "                if not fold in fold_single_dict.keys():\n",
    "                    fold_single_dict[fold] = 1\n",
    "                else:\n",
    "                    fold_single_dict[fold] += 1\n",
    "\n",
    "                length = len(seq)\n",
    "            \n",
    "                if not length in length_single_dict.keys():\n",
    "                    length_single_dict[length] = 1\n",
    "                else:\n",
    "                    length_single_dict[length] += 1\n",
    "        \n",
    "        pro_name = line.split(' ')[0].strip('>')\n",
    "        \n",
    "        fold = line.split(' ')[1]\n",
    "        fold = '.'.join(fold.split('.')[0:2])\n",
    "        clas = fold[0]\n",
    "        seq = ''\n",
    "    else:\n",
    "        seq += line.strip('\\n')\n",
    "\n",
    "if not 'X' in seq:\n",
    "    \n",
    "    sequence_single_num += 1\n",
    "    \n",
    "    if not clas in class_single_dict.keys():\n",
    "        class_single_dict[clas] = 1,\n",
    "    else:\n",
    "        class_single_dict[clas] += 1\n",
    "        \n",
    "    if not fold in fold_single_dict.keys():\n",
    "        fold_single_dict[fold] = 1\n",
    "    else:\n",
    "        fold_single_dict[fold] += 1\n",
    "    \n",
    "    length = len(seq)\n",
    "\n",
    "    if not length in length_single_dict.keys():\n",
    "        length_single_dict[length] = 1\n",
    "    else:\n",
    "        length_single_dict[length] += 1"
   ]
  },
  {
   "cell_type": "code",
   "execution_count": 106,
   "metadata": {},
   "outputs": [
    {
     "name": "stdout",
     "output_type": "stream",
     "text": [
      "For single-chain proteins:\n",
      "Sequence Amount: 13992\n",
      "Fold Amount: 1220\n",
      "Class Amount: 7\n",
      "\n",
      "Minimum Sequence Length: 20\n",
      "Maximum Sequence Length: 1664\n"
     ]
    }
   ],
   "source": [
    "print('For single-chain proteins:')\n",
    "print('Sequence Amount: %d'%sequence_single_num)\n",
    "print('Fold Amount: %d'%len(fold_single_dict.keys()))\n",
    "print('Class Amount: %d'%len(class_single_dict.keys()))\n",
    "print()\n",
    "print('Minimum Sequence Length: %d'%min(length_single_dict.keys()))\n",
    "print('Maximum Sequence Length: %d'%max(length_single_dict.keys()))"
   ]
  },
  {
   "cell_type": "code",
   "execution_count": 107,
   "metadata": {},
   "outputs": [
    {
     "name": "stdout",
     "output_type": "stream",
     "text": [
      "Single-chain protein amount of different classes:\n"
     ]
    },
    {
     "data": {
      "image/png": "[encoded data removed]",
      "text/plain": [
       "<Figure size 432x288 with 1 Axes>"
      ]
     },
     "metadata": {
      "needs_background": "light"
     },
     "output_type": "display_data"
    },
    {
     "name": "stdout",
     "output_type": "stream",
     "text": [
      "Single-chain protein amount of different folds:\n"
     ]
    },
    {
     "data": {
      "image/png": "[encoded data removed]",
      "text/plain": [
       "<Figure size 432x288 with 1 Axes>"
      ]
     },
     "metadata": {
      "needs_background": "light"
     },
     "output_type": "display_data"
    },
    {
     "name": "stdout",
     "output_type": "stream",
     "text": [
      "Sequence amount of different lengths:\n"
     ]
    },
    {
     "data": {
      "image/png": "[encoded data removed]",
      "text/plain": [
       "<Figure size 432x288 with 1 Axes>"
      ]
     },
     "metadata": {
      "needs_background": "light"
     },
     "output_type": "display_data"
    }
   ],
   "source": [
    "print('Single-chain protein amount of different classes:')\n",
    "\n",
    "plt.figure(1)\n",
    "plt.ylim([0,4500])\n",
    "plt.tick_params(labelsize=12)\n",
    "plt.bar(range(7),class_single_dict.values(),color='blue',tick_label=list(class_single_dict.keys()))\n",
    "for a,b in zip(range(7),class_single_dict.values()):\n",
    "    plt.text(a,b+5,'%d'%b,ha='center',va='bottom',fontsize=12)\n",
    "plt.show()\n",
    "\n",
    "print ('Single-chain protein amount of different folds:')\n",
    "\n",
    "plt.figure(2)\n",
    "plt.bar(range(len(fold_single_dict.keys())),sorted(fold_single_dict.values()),color='blue',width=1)\n",
    "plt.xlabel('Sorted Fold Index',fontsize=12)\n",
    "plt.ylabel('Protein Amount',fontsize=12)\n",
    "plt.show()\n",
    "\n",
    "print ('Sequence amount of different lengths:')\n",
    "\n",
    "plt.figure(3)\n",
    "plt.bar(length_single_dict.keys(),length_single_dict.values(),color='blue',width=1)\n",
    "plt.xlabel('Sequence Length',fontsize=12)\n",
    "plt.ylabel('Sequence Amount',fontsize=12)\n",
    "plt.show()"
   ]
  },
  {
   "cell_type": "markdown",
   "metadata": {},
   "source": [
    "### Statistics of sequences with a length less than or equal to 512 ###"
   ]
  },
  {
   "cell_type": "code",
   "execution_count": 108,
   "metadata": {},
   "outputs": [],
   "source": [
    "sequence_SS_num = 0\n",
    "length_SS_dict = {}\n",
    "fold_SS_dict = {}\n",
    "class_SS_dict = {}\n",
    "\n",
    "fold_SS_pro_dict = {}\n",
    "\n",
    "for i in range(len_lines):\n",
    "    line = lines[i]\n",
    "    if line[0] == '>':\n",
    "        if i != 0:      \n",
    "            \n",
    "            length = len(seq)\n",
    "            \n",
    "            if not 'X' in seq and length <= 512:\n",
    "                \n",
    "                sequence_SS_num += 1\n",
    "                \n",
    "                if not clas in class_SS_dict.keys():\n",
    "                    class_SS_dict[clas] = 1\n",
    "                else:\n",
    "                    class_SS_dict[clas] += 1\n",
    "                \n",
    "                if not fold in fold_SS_dict.keys():\n",
    "                    fold_SS_dict[fold] = 1\n",
    "                    fold_SS_pro_dict[fold] = [pro_name]\n",
    "                else:\n",
    "                    fold_SS_dict[fold] += 1\n",
    "                    fold_SS_pro_dict[fold].append(pro_name)\n",
    "            \n",
    "                if not length in length_SS_dict.keys():\n",
    "                    length_SS_dict[length] = 1\n",
    "                else:\n",
    "                    length_SS_dict[length] += 1\n",
    "        \n",
    "        pro_name = line.split(' ')[0].strip('>')\n",
    "        \n",
    "        fold = line.split(' ')[1]\n",
    "        fold = '.'.join(fold.split('.')[0:2])\n",
    "        clas = fold[0]\n",
    "        seq = ''\n",
    "    else:\n",
    "        seq += line.strip('\\n')\n",
    "\n",
    "length = len(seq)\n",
    "        \n",
    "if not 'X' in seq and length <= 512:\n",
    "    \n",
    "    sequence_SS_num += 1\n",
    "    \n",
    "    if not clas in class_SS_dict.keys():\n",
    "        class_SS_dict[clas] = 1,\n",
    "    else:\n",
    "        class_SS_dict[clas] += 1\n",
    "        \n",
    "    if not fold in fold_SS_dict.keys():\n",
    "        fold_SS_dict[fold] = 1\n",
    "        fold_SS_pro_dict[fold] = [pro_name]\n",
    "    else:\n",
    "        fold_SS_dict[fold] += 1\n",
    "        fold_SS_pro_dict[fold].append(pro_name)\n",
    "\n",
    "    if not length in length_SS_dict.keys():\n",
    "        length_SS_dict[length] = 1\n",
    "    else:\n",
    "        length_SS_dict[length] += 1"
   ]
  },
  {
   "cell_type": "code",
   "execution_count": 109,
   "metadata": {},
   "outputs": [
    {
     "name": "stdout",
     "output_type": "stream",
     "text": [
      "For single-chain proteins (length less than or equal to 512):\n",
      "Sequence Amount: 13814\n",
      "Fold Amount: 1206\n",
      "Class Amount: 7\n",
      "\n",
      "Minimum Sequence Length: 20\n",
      "Maximum Sequence Length: 512\n"
     ]
    }
   ],
   "source": [
    "print('For single-chain proteins (length less than or equal to 512):')\n",
    "print('Sequence Amount: %d'%sequence_SS_num)\n",
    "print('Fold Amount: %d'%len(fold_SS_dict.keys()))\n",
    "print('Class Amount: %d'%len(class_SS_dict.keys()))\n",
    "print()\n",
    "print('Minimum Sequence Length: %d'%min(length_SS_dict.keys()))\n",
    "print('Maximum Sequence Length: %d'%max(length_SS_dict.keys()))"
   ]
  },
  {
   "cell_type": "code",
   "execution_count": 110,
   "metadata": {},
   "outputs": [
    {
     "name": "stdout",
     "output_type": "stream",
     "text": [
      "Single-chain protein amount of different classes (length-filtered):\n"
     ]
    },
    {
     "data": {
      "image/png": "[encoded data removed]",
      "text/plain": [
       "<Figure size 432x288 with 1 Axes>"
      ]
     },
     "metadata": {
      "needs_background": "light"
     },
     "output_type": "display_data"
    },
    {
     "name": "stdout",
     "output_type": "stream",
     "text": [
      "Single-chain protein amount of different folds (length-filtered):\n"
     ]
    },
    {
     "data": {
      "image/png": "[encoded data removed]",
      "text/plain": [
       "<Figure size 432x288 with 1 Axes>"
      ]
     },
     "metadata": {
      "needs_background": "light"
     },
     "output_type": "display_data"
    },
    {
     "name": "stdout",
     "output_type": "stream",
     "text": [
      "Sequence amount of different lengths:\n"
     ]
    },
    {
     "data": {
      "image/png": "[encoded data removed]",
      "text/plain": [
       "<Figure size 432x288 with 1 Axes>"
      ]
     },
     "metadata": {
      "needs_background": "light"
     },
     "output_type": "display_data"
    }
   ],
   "source": [
    "print('Single-chain protein amount of different classes (length-filtered):')\n",
    "\n",
    "plt.figure(1)\n",
    "plt.ylim([0,4500])\n",
    "plt.tick_params(labelsize=12)\n",
    "plt.bar(range(7),class_SS_dict.values(),color='blue',tick_label=list(class_SS_dict.keys()))\n",
    "for a,b in zip(range(7),class_SS_dict.values()):\n",
    "    plt.text(a,b+5,'%d'%b,ha='center',va='bottom',fontsize=12)\n",
    "plt.show()\n",
    "\n",
    "print ('Single-chain protein amount of different folds (length-filtered):')\n",
    "\n",
    "plt.figure(2)\n",
    "plt.bar(range(len(fold_SS_dict.keys())),sorted(fold_SS_dict.values()),color='blue',width=1)\n",
    "plt.xlabel('Sorted Fold Index',fontsize=12)\n",
    "plt.ylabel('Protein Amount',fontsize=12)\n",
    "plt.show()\n",
    "\n",
    "print ('Sequence amount of different lengths:')\n",
    "\n",
    "plt.figure(3)\n",
    "plt.bar(length_SS_dict.keys(),length_SS_dict.values(),color='blue',width=1)\n",
    "plt.xlabel('Sequence Length',fontsize=12)\n",
    "plt.ylabel('Sequence Amount',fontsize=12)\n",
    "plt.show()"
   ]
  },
  {
   "cell_type": "code",
   "execution_count": 111,
   "metadata": {},
   "outputs": [],
   "source": [
    "import pickle\n",
    "\n",
    "with open(Data_Path  + 'fold_protein_dict.pickle', 'wb') as handle:\n",
    "    pickle.dump(fold_SS_pro_dict, handle, protocol=pickle.HIGHEST_PROTOCOL)"
   ]
  },
  {
   "cell_type": "markdown",
   "metadata": {},
   "source": [
    "### Statistics of data for Seq-Structure Models: ###"
   ]
  },
  {
   "cell_type": "code",
   "execution_count": 112,
   "metadata": {},
   "outputs": [
    {
     "name": "stdout",
     "output_type": "stream",
     "text": [
      "Folds amount with only one sequence: 460\n",
      "Folds amount with only two sequences: 186\n",
      "Folds amount with only three sequences: 103\n"
     ]
    }
   ],
   "source": [
    "print('Folds amount with only one sequence: %d'%list(fold_SS_dict.values()).count(1))\n",
    "print('Folds amount with only two sequences: %d'%list(fold_SS_dict.values()).count(2))\n",
    "print('Folds amount with only three sequences: %d'%list(fold_SS_dict.values()).count(3))"
   ]
  },
  {
   "cell_type": "code",
   "execution_count": 113,
   "metadata": {},
   "outputs": [
    {
     "name": "stdout",
     "output_type": "stream",
     "text": [
      "Sequence amount after reduction: 12982\n",
      "Fold amount after reduction: 560\n",
      "\n",
      "Sequence amount of different classes after reduction:\n"
     ]
    },
    {
     "data": {
      "image/png": "[encoded data removed]",
      "text/plain": [
       "<Figure size 432x288 with 1 Axes>"
      ]
     },
     "metadata": {
      "needs_background": "light"
     },
     "output_type": "display_data"
    },
    {
     "name": "stdout",
     "output_type": "stream",
     "text": [
      "Sequence amount of different folds after reduction:\n"
     ]
    },
    {
     "data": {
      "image/png": "[encoded data removed]",
      "text/plain": [
       "<Figure size 432x288 with 1 Axes>"
      ]
     },
     "metadata": {
      "needs_background": "light"
     },
     "output_type": "display_data"
    }
   ],
   "source": [
    "fold_dict_simple = {}\n",
    "class_dict_simple = {'a':0,'b':0,'c':0,'d':0,'e':0,'f':0,'g':0}\n",
    "fold_pro_dict_simple = {}\n",
    "\n",
    "for f in fold_SS_dict:\n",
    "    f_value = fold_SS_dict[f]\n",
    "    if f_value >= 3:\n",
    "        fold_dict_simple[f] = f_value\n",
    "        fold_pro_dict_simple[f] = fold_SS_pro_dict[f]\n",
    "        class_dict_simple[f[0]] += f_value\n",
    "        \n",
    "print('Sequence amount after reduction: %d'%sum(fold_dict_simple.values()))\n",
    "print('Fold amount after reduction: %d'%len(fold_dict_simple.keys()))\n",
    "print()\n",
    "print('Sequence amount of different classes after reduction:')\n",
    "\n",
    "with open(Data_Path  + 'fold_protein_dict_reduced.pickle', 'wb') as handle:\n",
    "    pickle.dump(fold_pro_dict_simple, handle, protocol=pickle.HIGHEST_PROTOCOL)\n",
    "\n",
    "plt.figure(1)\n",
    "plt.ylim([0,4500])\n",
    "plt.tick_params(labelsize=12)\n",
    "plt.bar(range(7),class_dict_simple.values(),color='blue',tick_label=list(class_dict_simple.keys()))\n",
    "for a,b in zip(range(7),class_dict_simple.values()):\n",
    "    plt.text(a,b+5,'%d'%b,ha='center',va='bottom',fontsize=12)\n",
    "plt.show()\n",
    "\n",
    "print ('Sequence amount of different folds after reduction:')\n",
    "\n",
    "plt.figure(2)\n",
    "#plt.ylim([0,4500])\n",
    "plt.bar(range(len(fold_dict_simple.keys())),sorted(fold_dict_simple.values()),color='blue',width=1)\n",
    "plt.xlabel('Sorted Fold Index',fontsize=12)\n",
    "plt.ylabel('Sequence Amount',fontsize=12)\n",
    "plt.show()"
   ]
  },
  {
   "cell_type": "code",
   "execution_count": 114,
   "metadata": {},
   "outputs": [],
   "source": [
    "length_dict_simple = {}\n",
    "fold = ''\n",
    "\n",
    "for i in range(len_lines):\n",
    "    line = lines[i]\n",
    "    if line[0] == '>':\n",
    "        num += 1\n",
    "        length = len(seq)\n",
    "        \n",
    "        if (i != 0) and (fold in fold_dict_simple.keys()) and length <= 512:\n",
    "            \n",
    "            if not length in length_dict_simple.keys():\n",
    "                length_dict_simple[length] = 1\n",
    "            else:\n",
    "                length_dict_simple[length] += 1\n",
    "                \n",
    "        fold = line.split(' ')[1]\n",
    "        fold = '.'.join(fold.split('.')[0:2])\n",
    "        seq = ''\n",
    "    else:\n",
    "        seq += line.strip('\\n')\n",
    "\n",
    "length = len(seq)\n",
    "    \n",
    "if fold in fold_dict_simple.keys() and length <= 512:\n",
    "\n",
    "    if not length in length_dict.keys():\n",
    "        length_dict_simple[length] = 1\n",
    "    else:\n",
    "        length_dict_simple[length] += 1"
   ]
  },
  {
   "cell_type": "code",
   "execution_count": null,
   "metadata": {},
   "outputs": [],
   "source": [
    "print('Minimum Sequence Length after reduction: %d'%min(length_dict_simple.keys()))\n",
    "print('Maximum Sequence Length after reduction: %d'%max(length_dict_simple.keys()))\n",
    "print()\n",
    "print ('Sequence amount of different lengths after reduction:')\n",
    "\n",
    "plt.figure(1)\n",
    "#plt.ylim([0,4500])\n",
    "plt.bar(length_dict_simple.keys(),length_dict_simple.values(),color='blue',width=1)\n",
    "plt.xlabel('Sequence Length',fontsize=12)\n",
    "plt.ylabel('Sequence Amount',fontsize=12)\n",
    "plt.show()\n",
    "\n",
    "length_list_simple = []\n",
    "for l in length_dict_simple.keys():\n",
    "    for n in range(length_dict_simple[l]):\n",
    "        length_list_simple.append(l)\n",
    "        \n",
    "print('Sequence length distribution after reduction:')\n",
    "\n",
    "plt.figure(2)\n",
    "plt.hist(length_list_simple,bins=100,color='blue',density=True)\n",
    "plt.xlabel('Sequence Length',fontsize=12)\n",
    "plt.show()"
   ]
  },
  {
   "cell_type": "code",
   "execution_count": null,
   "metadata": {},
   "outputs": [],
   "source": []
  }
 ],
 "metadata": {
  "kernelspec": {
   "display_name": "Python 3",
   "language": "python",
   "name": "python3"
  },
  "language_info": {
   "codemirror_mode": {
    "name": "ipython",
    "version": 3
   },
   "file_extension": ".py",
   "mimetype": "text/x-python",
   "name": "python",
   "nbconvert_exporter": "python",
   "pygments_lexer": "ipython3",
   "version": "3.7.4"
  }
 },
 "nbformat": 4,
 "nbformat_minor": 2
}
